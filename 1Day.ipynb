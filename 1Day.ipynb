{
  "nbformat": 4,
  "nbformat_minor": 0,
  "metadata": {
    "colab": {
      "provenance": [],
      "authorship_tag": "ABX9TyONDjL1buuOEUtllUOUdCk+",
      "include_colab_link": true
    },
    "kernelspec": {
      "name": "python3",
      "display_name": "Python 3"
    },
    "language_info": {
      "name": "python"
    }
  },
  "cells": [
    {
      "cell_type": "markdown",
      "metadata": {
        "id": "view-in-github",
        "colab_type": "text"
      },
      "source": [
        "<a href=\"https://colab.research.google.com/github/myung0306/Data_Analysis/blob/main/1Day.ipynb\" target=\"_parent\"><img src=\"https://colab.research.google.com/assets/colab-badge.svg\" alt=\"Open In Colab\"/></a>"
      ]
    },
    {
      "cell_type": "code",
      "execution_count": 2,
      "metadata": {
        "id": "AFWflwvXHSjk"
      },
      "outputs": [],
      "source": [
        "#Numpy\n",
        "#수치해석용 라이브러리\n",
        "#배열 처리와 빠른 연산\n",
        "import numpy as np"
      ]
    },
    {
      "cell_type": "code",
      "source": [
        "#ndarray:n은 숫자, d는 차원\n",
        "ar=np.array([0, 1, 2, 3, 4, 5])\n",
        "print(ar)\n",
        "print(type(ar))"
      ],
      "metadata": {
        "colab": {
          "base_uri": "https://localhost:8080/"
        },
        "id": "Fh4FGqkRHU8v",
        "outputId": "caa2502b-5c96-4785-fa45-29a2e540b7b9"
      },
      "execution_count": 2,
      "outputs": [
        {
          "output_type": "stream",
          "name": "stdout",
          "text": [
            "[0 1 2 3 4 5]\n",
            "<class 'numpy.ndarray'>\n"
          ]
        }
      ]
    },
    {
      "cell_type": "code",
      "source": [
        "data=[0, 1, 2, 3, 4, 5]\n",
        "print(data*2)"
      ],
      "metadata": {
        "colab": {
          "base_uri": "https://localhost:8080/"
        },
        "id": "DrxTOGkzHXfK",
        "outputId": "4f10f2d2-10f5-470e-be70-3fc37606006a"
      },
      "execution_count": 3,
      "outputs": [
        {
          "output_type": "stream",
          "name": "stdout",
          "text": [
            "[0, 1, 2, 3, 4, 5, 0, 1, 2, 3, 4, 5]\n"
          ]
        }
      ]
    },
    {
      "cell_type": "code",
      "source": [
        "data=[0, 1, 2, 3, 4, 5]\n",
        "result=[]\n",
        "for i in data:\n",
        "  result.append(i*2)\n",
        "print(result)"
      ],
      "metadata": {
        "colab": {
          "base_uri": "https://localhost:8080/"
        },
        "id": "9de64r3iHaRX",
        "outputId": "67a62eef-565e-47cf-b8cd-f80a7215b0c3"
      },
      "execution_count": 4,
      "outputs": [
        {
          "output_type": "stream",
          "name": "stdout",
          "text": [
            "[0, 2, 4, 6, 8, 10]\n"
          ]
        }
      ]
    },
    {
      "cell_type": "code",
      "source": [
        "data=[0, 1, 2, 3, 4, 5]\n",
        "ar=np.array(data)\n",
        "result=ar*2\n",
        "print(result)\n",
        "print(list(result))"
      ],
      "metadata": {
        "colab": {
          "base_uri": "https://localhost:8080/"
        },
        "id": "DnL6UCsDH26_",
        "outputId": "9ccabd7e-9d62-429b-abce-98c7bb5e8105"
      },
      "execution_count": 6,
      "outputs": [
        {
          "output_type": "stream",
          "name": "stdout",
          "text": [
            "[ 0  2  4  6  8 10]\n",
            "[0, 2, 4, 6, 8, 10]\n"
          ]
        }
      ]
    },
    {
      "cell_type": "code",
      "source": [
        "a=np.array([[1, 2, 3], [4, 5, 6]])\n",
        "print(a)"
      ],
      "metadata": {
        "colab": {
          "base_uri": "https://localhost:8080/"
        },
        "id": "pHTarKBCH9tk",
        "outputId": "9ac276f8-b39c-4853-e288-181344810f23"
      },
      "execution_count": 7,
      "outputs": [
        {
          "output_type": "stream",
          "name": "stdout",
          "text": [
            "[[1 2 3]\n",
            " [4 5 6]]\n"
          ]
        }
      ]
    },
    {
      "cell_type": "code",
      "source": [
        "a=[1, 2, 3]\n",
        "b=[10, 20, 30]\n",
        "\n",
        "#2*a+b\n",
        "print(a+b)"
      ],
      "metadata": {
        "colab": {
          "base_uri": "https://localhost:8080/"
        },
        "id": "GzqZOy4JIGcQ",
        "outputId": "cacab92e-3485-44d4-b101-da9ff807e5a3"
      },
      "execution_count": 8,
      "outputs": [
        {
          "output_type": "stream",
          "name": "stdout",
          "text": [
            "[1, 2, 3, 10, 20, 30]\n"
          ]
        }
      ]
    },
    {
      "cell_type": "code",
      "source": [
        "result=[]\n",
        "result2=[]\n",
        "for x in a:\n",
        "  result.append(x*2)\n",
        "for y in range(len(b)):\n",
        "  result2.append(result[y]+b[y])\n",
        "print(result2)"
      ],
      "metadata": {
        "colab": {
          "base_uri": "https://localhost:8080/"
        },
        "id": "9eZyoDqFISAE",
        "outputId": "70cd8d0b-20c9-45f8-fd50-28aba32fdc39"
      },
      "execution_count": 10,
      "outputs": [
        {
          "output_type": "stream",
          "name": "stdout",
          "text": [
            "[12, 24, 36]\n"
          ]
        }
      ]
    },
    {
      "cell_type": "code",
      "source": [
        "a=[1, 2, 3]\n",
        "b=[10, 20, 30]\n",
        "\n",
        "x=np.array(a)\n",
        "y=np.array(b)\n",
        "z=2*x+y\n",
        "print(list(z))"
      ],
      "metadata": {
        "colab": {
          "base_uri": "https://localhost:8080/"
        },
        "id": "k8ITPj1KI4sg",
        "outputId": "897f9650-63c4-429c-86e0-aa9661942528"
      },
      "execution_count": 11,
      "outputs": [
        {
          "output_type": "stream",
          "name": "stdout",
          "text": [
            "[12, 24, 36]\n"
          ]
        }
      ]
    },
    {
      "cell_type": "code",
      "source": [
        "a=[1, 2, 3]\n",
        "ar=np.array(a)\n",
        "print(ar==2)"
      ],
      "metadata": {
        "colab": {
          "base_uri": "https://localhost:8080/"
        },
        "id": "mbAk7kvQJR7J",
        "outputId": "5ed5658f-f932-4e98-9aa2-4bf42aeb55b3"
      },
      "execution_count": 3,
      "outputs": [
        {
          "output_type": "stream",
          "name": "stdout",
          "text": [
            "[False  True False]\n"
          ]
        }
      ]
    },
    {
      "cell_type": "code",
      "source": [
        "#2차원 배열\n",
        "a=np.array([[0, 1, 2],[3, 4, 5]])\n",
        "print(a)"
      ],
      "metadata": {
        "colab": {
          "base_uri": "https://localhost:8080/"
        },
        "id": "ee4Ntcr4Cb4k",
        "outputId": "7e16c00a-cd9a-4a5f-bb99-cdada8179ade"
      },
      "execution_count": 4,
      "outputs": [
        {
          "output_type": "stream",
          "name": "stdout",
          "text": [
            "[[0 1 2]\n",
            " [3 4 5]]\n"
          ]
        }
      ]
    },
    {
      "cell_type": "code",
      "source": [
        "#행과 열의 개수 파악\n",
        "print(len(a))\n",
        "print(len(a[0]))"
      ],
      "metadata": {
        "colab": {
          "base_uri": "https://localhost:8080/"
        },
        "id": "5MqGe13iCgsj",
        "outputId": "2fa70f9e-60a7-462c-a082-0bc28f88fa3f"
      },
      "execution_count": 6,
      "outputs": [
        {
          "output_type": "stream",
          "name": "stdout",
          "text": [
            "2\n",
            "3\n"
          ]
        }
      ]
    },
    {
      "cell_type": "code",
      "source": [
        "# 3차원 배열\n",
        "a = np.array([[[1, 2, 3, 4],\n",
        "               [5, 6, 7, 8],\n",
        "               [9, 10, 11, 12]],\n",
        "              [[13, 14, 15, 16],\n",
        "               [17, 18, 19, 20],\n",
        "               [21, 22, 23, 24]]])\n",
        "print(a)"
      ],
      "metadata": {
        "colab": {
          "base_uri": "https://localhost:8080/"
        },
        "id": "GcrZFTuWCtMT",
        "outputId": "8fb98b9d-25b2-4890-ff19-fc77b536da4d"
      },
      "execution_count": 7,
      "outputs": [
        {
          "output_type": "stream",
          "name": "stdout",
          "text": [
            "[[[ 1  2  3  4]\n",
            "  [ 5  6  7  8]\n",
            "  [ 9 10 11 12]]\n",
            "\n",
            " [[13 14 15 16]\n",
            "  [17 18 19 20]\n",
            "  [21 22 23 24]]]\n"
          ]
        }
      ]
    },
    {
      "cell_type": "code",
      "source": [
        "#깊이, 행, 열\n",
        "print(len(a))\n",
        "print(len(a[0]))\n",
        "print(len(a[0][0]))"
      ],
      "metadata": {
        "colab": {
          "base_uri": "https://localhost:8080/"
        },
        "id": "o4jEECUrCzmF",
        "outputId": "7c826189-d942-4d0b-b46e-cabbd8b44946"
      },
      "execution_count": 8,
      "outputs": [
        {
          "output_type": "stream",
          "name": "stdout",
          "text": [
            "2\n",
            "3\n",
            "4\n"
          ]
        }
      ]
    },
    {
      "cell_type": "code",
      "source": [
        "#1차원 배열의 차원수, 크기 확인\n",
        "#ndim:차원, shape:크기\n",
        "a=np.array([1, 2, 3])\n",
        "print(a.ndim)\n",
        "print(a.shape)"
      ],
      "metadata": {
        "colab": {
          "base_uri": "https://localhost:8080/"
        },
        "id": "4yvdCJKnC6_G",
        "outputId": "1fac51c8-471f-47eb-c9f7-575cf077f320"
      },
      "execution_count": 9,
      "outputs": [
        {
          "output_type": "stream",
          "name": "stdout",
          "text": [
            "1\n",
            "(3,)\n"
          ]
        }
      ]
    },
    {
      "cell_type": "code",
      "source": [
        "#2차원 배열\n",
        "#인덱싱이 가능하면 슬라이싱(연속된 데이터를 잘라줌)이 가능\n",
        "a=np.array([[0, 1, 2], [3, 4, 5]])\n",
        "print(a.ndim)\n",
        "print(a.shape)"
      ],
      "metadata": {
        "colab": {
          "base_uri": "https://localhost:8080/"
        },
        "id": "OaSzrooWDD1t",
        "outputId": "d161b258-8646-42b2-de53-6f6da8f4a982"
      },
      "execution_count": 11,
      "outputs": [
        {
          "output_type": "stream",
          "name": "stdout",
          "text": [
            "2\n",
            "(2, 3)\n"
          ]
        }
      ]
    },
    {
      "cell_type": "code",
      "source": [
        "# 3차원 배열의 차원수, 크기 확인\n",
        "a = np.array([[[1, 2, 3, 4],\n",
        "               [5, 6, 7, 8],\n",
        "               [9, 10, 11, 12]],\n",
        "              [[13, 14, 15, 16],\n",
        "               [17, 18, 19, 20],\n",
        "               [21, 22, 23, 24]]])\n",
        "print(a.ndim)\n",
        "print(a.shape)"
      ],
      "metadata": {
        "colab": {
          "base_uri": "https://localhost:8080/"
        },
        "id": "l0H_KEjNPJOK",
        "outputId": "d1fbe06d-7c99-41c7-e877-f31ef0e5cbda"
      },
      "execution_count": 12,
      "outputs": [
        {
          "output_type": "stream",
          "name": "stdout",
          "text": [
            "3\n",
            "(2, 3, 4)\n"
          ]
        }
      ]
    },
    {
      "cell_type": "code",
      "source": [
        "#배열의 인덱싱\n",
        "a=np.array([0, 1, 2, 3, 4])\n",
        "print(a[2])\n",
        "print(a[-1])"
      ],
      "metadata": {
        "colab": {
          "base_uri": "https://localhost:8080/"
        },
        "id": "nwCvAFq6POUp",
        "outputId": "bd4e6414-acce-47d8-b028-2c49d55a249a"
      },
      "execution_count": 13,
      "outputs": [
        {
          "output_type": "stream",
          "name": "stdout",
          "text": [
            "2\n",
            "4\n"
          ]
        }
      ]
    },
    {
      "cell_type": "code",
      "source": [
        "#배열의 인덱싱\n",
        "a=np.array([[0, 1, 2], [3, 4, 5]])\n",
        "print(a[0, 1])\n",
        "print(a[1, 1])\n",
        "print(a[-1, -1])"
      ],
      "metadata": {
        "colab": {
          "base_uri": "https://localhost:8080/"
        },
        "id": "IHv0Km0Yo8Yg",
        "outputId": "1dc807b8-9010-4161-e487-79c2b0921d17"
      },
      "execution_count": 14,
      "outputs": [
        {
          "output_type": "stream",
          "name": "stdout",
          "text": [
            "1\n",
            "4\n",
            "5\n"
          ]
        }
      ]
    },
    {
      "cell_type": "code",
      "source": [
        "# 배열의 인덱싱\n",
        "a = np.array([[[1, 2, 3, 4],\n",
        "               [5, 6, 7, 8],\n",
        "               [9, 10, 11, 12]],\n",
        "              [[13, 14, 15, 16],\n",
        "               [17, 18, 19, 20],\n",
        "               [21, 22, 23, 24]]])\n",
        "\n",
        "print(a[0, 1, 1])\n",
        "print(a[1, -1, 2])"
      ],
      "metadata": {
        "colab": {
          "base_uri": "https://localhost:8080/"
        },
        "id": "PVXKExhLrglU",
        "outputId": "e649493e-8b0b-480a-f802-8f188968d863"
      },
      "execution_count": 16,
      "outputs": [
        {
          "output_type": "stream",
          "name": "stdout",
          "text": [
            "6\n",
            "23\n"
          ]
        }
      ]
    },
    {
      "cell_type": "code",
      "source": [
        "#배열의 슬라이싱\n",
        "a=np.array([0, 1, 2, 3, 4])\n",
        "print(a[1:3])"
      ],
      "metadata": {
        "colab": {
          "base_uri": "https://localhost:8080/"
        },
        "id": "6lmn51_rDi4h",
        "outputId": "20640006-f6f7-4081-9e73-de94b01e2e8c"
      },
      "execution_count": 17,
      "outputs": [
        {
          "output_type": "stream",
          "name": "stdout",
          "text": [
            "[1 2]\n"
          ]
        }
      ]
    },
    {
      "cell_type": "code",
      "source": [
        "# 배열의 슬라이싱\n",
        "a = np.array([[0, 1, 2], [3, 4, 5]])\n",
        "print(a)\n",
        "print(a[0, 1:])\n",
        "print(a[:, 1])\n",
        "print(a[:, 1:])"
      ],
      "metadata": {
        "colab": {
          "base_uri": "https://localhost:8080/"
        },
        "id": "FoY0CZ33DtRr",
        "outputId": "33dcffd9-38dc-41fc-c82e-eb575ee5d05e"
      },
      "execution_count": 21,
      "outputs": [
        {
          "output_type": "stream",
          "name": "stdout",
          "text": [
            "[[0 1 2]\n",
            " [3 4 5]]\n",
            "[1 2]\n",
            "[1 4]\n",
            "[[1 2]\n",
            " [4 5]]\n"
          ]
        }
      ]
    },
    {
      "cell_type": "code",
      "source": [
        "# 배열의 슬라이싱\n",
        "a = np.array([[[1, 2, 3, 4],\n",
        "               [5, 6, 7, 8],\n",
        "               [9, 10, 11, 12]],\n",
        "              [[13, 14, 15, 16],\n",
        "               [17, 18, 19, 20],\n",
        "               [21, 22, 23, 24]]])\n",
        "\n",
        "print(a[:, 1, 1])\n",
        "print(a[1, :2, 1:3])\n",
        "print(a[:, :2, 1:])"
      ],
      "metadata": {
        "colab": {
          "base_uri": "https://localhost:8080/"
        },
        "id": "mTE78qYtK0Eh",
        "outputId": "8997fa6d-b5a9-4625-a864-0b0537765cdf"
      },
      "execution_count": 24,
      "outputs": [
        {
          "output_type": "stream",
          "name": "stdout",
          "text": [
            "[ 6 18]\n",
            "[[14 15]\n",
            " [18 19]]\n",
            "[[[ 2  3  4]\n",
            "  [ 6  7  8]]\n",
            "\n",
            " [[14 15 16]\n",
            "  [18 19 20]]]\n"
          ]
        }
      ]
    },
    {
      "cell_type": "code",
      "source": [
        "# 펜시 인덱싱\n",
        "# 불리언 인덱싱\n",
        "a = np.array([0, 1, 2, 3, 4, 5, 6, 7, 8, 9])\n",
        "idx = np.array([True, False, True, False, True, False, True, False, True, False])\n",
        "print(a[idx])"
      ],
      "metadata": {
        "colab": {
          "base_uri": "https://localhost:8080/"
        },
        "id": "hfwgoG6XLTzY",
        "outputId": "4d9cffc6-86fe-4d51-a88e-4bc739d05c32"
      },
      "execution_count": 25,
      "outputs": [
        {
          "output_type": "stream",
          "name": "stdout",
          "text": [
            "[0 2 4 6 8]\n"
          ]
        }
      ]
    },
    {
      "cell_type": "code",
      "source": [
        "a=np.array(list(range(0, 10)))\n",
        "idx=(a%2==0)\n",
        "print(a[idx])"
      ],
      "metadata": {
        "colab": {
          "base_uri": "https://localhost:8080/"
        },
        "id": "gkj6Bo3kMPrT",
        "outputId": "5c9609fb-7ecd-406d-d97d-4197c60940fb"
      },
      "execution_count": 27,
      "outputs": [
        {
          "output_type": "stream",
          "name": "stdout",
          "text": [
            "[0 2 4 6 8]\n"
          ]
        }
      ]
    },
    {
      "cell_type": "code",
      "source": [
        "# 펜시 인덱싱\n",
        "# 정수 배열 인덱싱\n",
        "a = np.array([0, 1, 2, 3, 4, 5, 6, 7, 8, 9])\n",
        "idx=np.array([0, 2, 4, 6, 8])\n",
        "print(a[idx])"
      ],
      "metadata": {
        "colab": {
          "base_uri": "https://localhost:8080/"
        },
        "id": "QtIsXt4EMXew",
        "outputId": "ce6af738-eb68-485e-bc5f-feb9d8ddcb85"
      },
      "execution_count": 28,
      "outputs": [
        {
          "output_type": "stream",
          "name": "stdout",
          "text": [
            "[0 2 4 6 8]\n"
          ]
        }
      ]
    },
    {
      "cell_type": "code",
      "source": [
        "a=np.array(list(range(0, 10)))\n",
        "idx=np.array([9, 9, 9, 8, 8, 7, 7, 7])\n",
        "print(a[idx])"
      ],
      "metadata": {
        "colab": {
          "base_uri": "https://localhost:8080/"
        },
        "id": "dFk1izE4MkUb",
        "outputId": "7aedaeeb-535b-4bae-a627-0fdba065338e"
      },
      "execution_count": 29,
      "outputs": [
        {
          "output_type": "stream",
          "name": "stdout",
          "text": [
            "[9 9 9 8 8 7 7 7]\n"
          ]
        }
      ]
    },
    {
      "cell_type": "code",
      "source": [
        "# 다차원에서의 펜시 인덱싱\n",
        "a = np.array([[1, 2, 3, 4],\n",
        "              [5, 6, 7, 8],\n",
        "              [9, 10, 11, 12]])\n",
        "print(a[:, [True, False, True, False]])\n",
        "print(a[[2, 0, 1], :])"
      ],
      "metadata": {
        "colab": {
          "base_uri": "https://localhost:8080/"
        },
        "id": "JKUI-GtyMpIQ",
        "outputId": "71576f11-9e4d-4ced-d4dd-b8680f97a6cb"
      },
      "execution_count": 30,
      "outputs": [
        {
          "output_type": "stream",
          "name": "stdout",
          "text": [
            "[[ 1  3]\n",
            " [ 5  7]\n",
            " [ 9 11]]\n",
            "[[ 9 10 11 12]\n",
            " [ 1  2  3  4]\n",
            " [ 5  6  7  8]]\n"
          ]
        }
      ]
    },
    {
      "cell_type": "code",
      "source": [
        "#배열의 자료형\n",
        "a=np.array([1, 2, 3])\n",
        "print(a.dtype)"
      ],
      "metadata": {
        "colab": {
          "base_uri": "https://localhost:8080/"
        },
        "id": "YcvPcqHUMpRW",
        "outputId": "78027551-e6d3-4571-cfd0-42fe94338122"
      },
      "execution_count": 31,
      "outputs": [
        {
          "output_type": "stream",
          "name": "stdout",
          "text": [
            "int64\n"
          ]
        }
      ]
    },
    {
      "cell_type": "code",
      "source": [
        "#배열의 자료형\n",
        "a=np.array([1.0, 2.0, 3.0])\n",
        "print(a.dtype)"
      ],
      "metadata": {
        "colab": {
          "base_uri": "https://localhost:8080/"
        },
        "id": "glqiCyoiNVSr",
        "outputId": "52423db4-fdda-4d0b-fa00-4d9487f8135f"
      },
      "execution_count": 32,
      "outputs": [
        {
          "output_type": "stream",
          "name": "stdout",
          "text": [
            "float64\n"
          ]
        }
      ]
    },
    {
      "cell_type": "code",
      "source": [
        "#배열의 자료형\n",
        "a=np.array([1, 'a', 'b'])\n",
        "print(a.dtype)"
      ],
      "metadata": {
        "colab": {
          "base_uri": "https://localhost:8080/"
        },
        "id": "sew3mxQXNemR",
        "outputId": "73b3f4fa-110b-4dd5-9714-db4a99b3ec2e"
      },
      "execution_count": 33,
      "outputs": [
        {
          "output_type": "stream",
          "name": "stdout",
          "text": [
            "<U21\n"
          ]
        }
      ]
    },
    {
      "cell_type": "code",
      "source": [
        "#배열의 자료형\n",
        "a=np.array([1, 2.0, 3.0])\n",
        "print(a.dtype)"
      ],
      "metadata": {
        "colab": {
          "base_uri": "https://localhost:8080/"
        },
        "id": "luW-DUPvNlVT",
        "outputId": "001b2a01-e59f-4f98-b968-136bc262f262"
      },
      "execution_count": 34,
      "outputs": [
        {
          "output_type": "stream",
          "name": "stdout",
          "text": [
            "float64\n"
          ]
        }
      ]
    },
    {
      "cell_type": "code",
      "source": [
        "#배열의 자료형 변경\n",
        "a=np.array([1, 2.0, 3.0], dtype='i')\n",
        "print(a)\n",
        "print(a.dtype)"
      ],
      "metadata": {
        "colab": {
          "base_uri": "https://localhost:8080/"
        },
        "id": "UTE_cF4zNrvM",
        "outputId": "0b7e6ffd-c6e3-4400-9222-abc2b9af33bf"
      },
      "execution_count": 36,
      "outputs": [
        {
          "output_type": "stream",
          "name": "stdout",
          "text": [
            "[1 2 3]\n",
            "int32\n"
          ]
        }
      ]
    },
    {
      "cell_type": "code",
      "source": [
        "#배열의 자료형 변경\n",
        "a=np.array([1, 2.0, 3.0], dtype='U')\n",
        "print(a)\n",
        "print(a.dtype)"
      ],
      "metadata": {
        "colab": {
          "base_uri": "https://localhost:8080/"
        },
        "id": "sqWEPSCANyx5",
        "outputId": "21f050f3-9a76-433e-a451-56cfd7235ed7"
      },
      "execution_count": 37,
      "outputs": [
        {
          "output_type": "stream",
          "name": "stdout",
          "text": [
            "['1' '2.0' '3.0']\n",
            "<U3\n"
          ]
        }
      ]
    },
    {
      "cell_type": "code",
      "source": [
        "#inf / NaN\n",
        "print(np.array([0, 1, -1, 0])/np.array([1, 0, 0, 0]))"
      ],
      "metadata": {
        "colab": {
          "base_uri": "https://localhost:8080/"
        },
        "id": "_U64Kd2pN_Sy",
        "outputId": "d8e16e02-eea6-496a-a004-21cfc5492f82"
      },
      "execution_count": 40,
      "outputs": [
        {
          "output_type": "stream",
          "name": "stdout",
          "text": [
            "[  0.  inf -inf  nan]\n"
          ]
        },
        {
          "output_type": "stream",
          "name": "stderr",
          "text": [
            "<ipython-input-40-30dc3e07d012>:2: RuntimeWarning: divide by zero encountered in divide\n",
            "  print(np.array([0, 1, -1, 0])/np.array([1, 0, 0, 0]))\n",
            "<ipython-input-40-30dc3e07d012>:2: RuntimeWarning: invalid value encountered in divide\n",
            "  print(np.array([0, 1, -1, 0])/np.array([1, 0, 0, 0]))\n"
          ]
        }
      ]
    },
    {
      "cell_type": "code",
      "source": [
        "a=np.array([0, 1, -1, 0])/np.array([1, 0, 0, 0])\n",
        "print(a[1]==a[2])"
      ],
      "metadata": {
        "colab": {
          "base_uri": "https://localhost:8080/"
        },
        "id": "fGzidgiVOOnB",
        "outputId": "3e21ddba-153d-4bfa-fdf3-ca3cbe80f8b2"
      },
      "execution_count": 41,
      "outputs": [
        {
          "output_type": "stream",
          "name": "stdout",
          "text": [
            "False\n"
          ]
        },
        {
          "output_type": "stream",
          "name": "stderr",
          "text": [
            "<ipython-input-41-bd6c5c0b0eea>:1: RuntimeWarning: divide by zero encountered in divide\n",
            "  a=np.array([0, 1, -1, 0])/np.array([1, 0, 0, 0])\n",
            "<ipython-input-41-bd6c5c0b0eea>:1: RuntimeWarning: invalid value encountered in divide\n",
            "  a=np.array([0, 1, -1, 0])/np.array([1, 0, 0, 0])\n"
          ]
        }
      ]
    },
    {
      "cell_type": "code",
      "source": [
        "#zeros()\n",
        "a=np.zeros(5)\n",
        "print(a)"
      ],
      "metadata": {
        "colab": {
          "base_uri": "https://localhost:8080/"
        },
        "id": "iNSarahzOfi0",
        "outputId": "66617bb4-7975-4619-de0b-e82bc881597a"
      },
      "execution_count": 42,
      "outputs": [
        {
          "output_type": "stream",
          "name": "stdout",
          "text": [
            "[0. 0. 0. 0. 0.]\n"
          ]
        }
      ]
    },
    {
      "cell_type": "code",
      "source": [
        "#zeros()\n",
        "a=np.zeros((3, 4))\n",
        "print(a)"
      ],
      "metadata": {
        "colab": {
          "base_uri": "https://localhost:8080/"
        },
        "id": "uG4xOMGkOo-2",
        "outputId": "7630f4e3-4ae1-45ae-fbd7-f6e9ff99012d"
      },
      "execution_count": 43,
      "outputs": [
        {
          "output_type": "stream",
          "name": "stdout",
          "text": [
            "[[0. 0. 0. 0.]\n",
            " [0. 0. 0. 0.]\n",
            " [0. 0. 0. 0.]]\n"
          ]
        }
      ]
    },
    {
      "cell_type": "code",
      "source": [
        "#zeros()\n",
        "a=np.zeros((2, 3, 4))\n",
        "print(a)"
      ],
      "metadata": {
        "colab": {
          "base_uri": "https://localhost:8080/"
        },
        "id": "m76t29fPOw4h",
        "outputId": "167fbccd-af67-49ad-d64c-ec99479e4f35"
      },
      "execution_count": 44,
      "outputs": [
        {
          "output_type": "stream",
          "name": "stdout",
          "text": [
            "[[[0. 0. 0. 0.]\n",
            "  [0. 0. 0. 0.]\n",
            "  [0. 0. 0. 0.]]\n",
            "\n",
            " [[0. 0. 0. 0.]\n",
            "  [0. 0. 0. 0.]\n",
            "  [0. 0. 0. 0.]]]\n"
          ]
        }
      ]
    },
    {
      "cell_type": "code",
      "source": [
        "#zeros()\n",
        "a=np.zeros((2, 3, 4))\n",
        "a[1, 1, 1]=1\n",
        "print(a)"
      ],
      "metadata": {
        "colab": {
          "base_uri": "https://localhost:8080/"
        },
        "id": "oe8VFVCpO6AZ",
        "outputId": "2cb4080b-78c8-49ce-bef0-dc8df29c4aec"
      },
      "execution_count": 45,
      "outputs": [
        {
          "output_type": "stream",
          "name": "stdout",
          "text": [
            "[[[0. 0. 0. 0.]\n",
            "  [0. 0. 0. 0.]\n",
            "  [0. 0. 0. 0.]]\n",
            "\n",
            " [[0. 0. 0. 0.]\n",
            "  [0. 1. 0. 0.]\n",
            "  [0. 0. 0. 0.]]]\n"
          ]
        }
      ]
    },
    {
      "cell_type": "code",
      "source": [
        "#one\n",
        "a=np.ones(5, dtype='i')\n",
        "print(a)"
      ],
      "metadata": {
        "colab": {
          "base_uri": "https://localhost:8080/"
        },
        "id": "uG6b5ImwPAtS",
        "outputId": "f7bc9f26-d367-4ebc-dc82-e5b4f6efc92a"
      },
      "execution_count": 46,
      "outputs": [
        {
          "output_type": "stream",
          "name": "stdout",
          "text": [
            "[1 1 1 1 1]\n"
          ]
        }
      ]
    },
    {
      "cell_type": "code",
      "source": [
        "#zeros_like\n",
        "a=np.array([1, 2, 3, 4, 5])\n",
        "b=np.zeros_like(a)\n",
        "print(a)\n",
        "print(b)"
      ],
      "metadata": {
        "colab": {
          "base_uri": "https://localhost:8080/"
        },
        "id": "QKXaJDkQPH3J",
        "outputId": "e4c5bd0d-4178-4aa6-d485-66d1132ed85f"
      },
      "execution_count": 47,
      "outputs": [
        {
          "output_type": "stream",
          "name": "stdout",
          "text": [
            "[1 2 3 4 5]\n",
            "[0 0 0 0 0]\n"
          ]
        }
      ]
    },
    {
      "cell_type": "code",
      "source": [
        "#ones_like\n",
        "a=np.array([1, 2, 3, 4, 5])\n",
        "b=np.ones_like(a)\n",
        "print(a)\n",
        "print(b)"
      ],
      "metadata": {
        "colab": {
          "base_uri": "https://localhost:8080/"
        },
        "id": "55WxI0s2PQ21",
        "outputId": "3bbb2364-ad8b-4fd6-89dd-2ee49b047efe"
      },
      "execution_count": 48,
      "outputs": [
        {
          "output_type": "stream",
          "name": "stdout",
          "text": [
            "[1 2 3 4 5]\n",
            "[1 1 1 1 1]\n"
          ]
        }
      ]
    },
    {
      "cell_type": "code",
      "source": [
        "#empty\n",
        "a=np.empty((4, 3))\n",
        "print(a)"
      ],
      "metadata": {
        "colab": {
          "base_uri": "https://localhost:8080/"
        },
        "id": "euw6cn3DPhDV",
        "outputId": "fd455fef-8b00-4598-a47c-3c50f7c28150"
      },
      "execution_count": 49,
      "outputs": [
        {
          "output_type": "stream",
          "name": "stdout",
          "text": [
            "[[0. 0. 0.]\n",
            " [0. 0. 0.]\n",
            " [0. 0. 0.]\n",
            " [0. 0. 0.]]\n"
          ]
        }
      ]
    },
    {
      "cell_type": "code",
      "source": [
        "#arange\n",
        "a=np.arange(10)\n",
        "print(a)"
      ],
      "metadata": {
        "colab": {
          "base_uri": "https://localhost:8080/"
        },
        "id": "o44mnKrYPoFQ",
        "outputId": "b68b923f-c6c4-4da6-cc4d-87856991d22e"
      },
      "execution_count": 50,
      "outputs": [
        {
          "output_type": "stream",
          "name": "stdout",
          "text": [
            "[0 1 2 3 4 5 6 7 8 9]\n"
          ]
        }
      ]
    },
    {
      "cell_type": "code",
      "source": [
        "#arange\n",
        "a=np.arange(1, 11)\n",
        "print(a)"
      ],
      "metadata": {
        "colab": {
          "base_uri": "https://localhost:8080/"
        },
        "id": "R8Ia05evP3Dp",
        "outputId": "62a10081-7589-4c5c-eec1-297830a06ee2"
      },
      "execution_count": 51,
      "outputs": [
        {
          "output_type": "stream",
          "name": "stdout",
          "text": [
            "[ 1  2  3  4  5  6  7  8  9 10]\n"
          ]
        }
      ]
    },
    {
      "cell_type": "code",
      "source": [
        "#arange\n",
        "a=np.arange(1, 11, 2)\n",
        "print(a)"
      ],
      "metadata": {
        "colab": {
          "base_uri": "https://localhost:8080/"
        },
        "id": "UO5Vy2OhQgmD",
        "outputId": "45f85350-30ee-4946-bb17-6bcbe433167e"
      },
      "execution_count": 52,
      "outputs": [
        {
          "output_type": "stream",
          "name": "stdout",
          "text": [
            "[1 3 5 7 9]\n"
          ]
        }
      ]
    },
    {
      "cell_type": "code",
      "source": [
        "#linspace:값이 일정하게 나눔\n",
        "a=np.linspace(0, 100, 5)\n",
        "print(a)"
      ],
      "metadata": {
        "colab": {
          "base_uri": "https://localhost:8080/"
        },
        "id": "P9YUhsO5Qlc1",
        "outputId": "00237ad5-b051-475d-e18f-3c18ac4c267e"
      },
      "execution_count": 53,
      "outputs": [
        {
          "output_type": "stream",
          "name": "stdout",
          "text": [
            "[  0.  25.  50.  75. 100.]\n"
          ]
        }
      ]
    },
    {
      "cell_type": "code",
      "source": [
        "#logspace:증가하는 수식\n",
        "a=np.logspace(0.1, 1, 10)\n",
        "print(a)"
      ],
      "metadata": {
        "colab": {
          "base_uri": "https://localhost:8080/"
        },
        "id": "4ncLigZHQ4gD",
        "outputId": "5cc89e60-36a6-4e68-92c7-c10274c226ee"
      },
      "execution_count": 55,
      "outputs": [
        {
          "output_type": "stream",
          "name": "stdout",
          "text": [
            "[ 1.25892541  1.58489319  1.99526231  2.51188643  3.16227766  3.98107171\n",
            "  5.01187234  6.30957344  7.94328235 10.        ]\n"
          ]
        }
      ]
    },
    {
      "cell_type": "code",
      "source": [
        "import matplotlib.pyplot as plt\n",
        "\n",
        "x_value=list(range(1, 11))\n",
        "y_value=np.logspace(0.1, 1, 10)\n",
        "plt.plot(x_value, y_value, marker='o', markersize=5)\n",
        "plt.show()"
      ],
      "metadata": {
        "colab": {
          "base_uri": "https://localhost:8080/",
          "height": 430
        },
        "id": "Ke1yXtnRQ9PC",
        "outputId": "52c2f833-9f86-4a4a-8ecb-70c314d2e377"
      },
      "execution_count": 58,
      "outputs": [
        {
          "output_type": "display_data",
          "data": {
            "text/plain": [
              "<Figure size 640x480 with 1 Axes>"
            ],
            "image/png": "[encoded data removed]"
          },
          "metadata": {}
        }
      ]
    },
    {
      "cell_type": "code",
      "source": [
        "#전치연산\n",
        "a=np.array([[1, 2, 3],\n",
        "            [4, 5, 6]])\n",
        "\n",
        "print(a)\n",
        "print(a.T)\n",
        "print(a.transpose())"
      ],
      "metadata": {
        "colab": {
          "base_uri": "https://localhost:8080/"
        },
        "id": "Ebvrm2QERCW-",
        "outputId": "cf4afcb2-31e1-4dcb-9287-df2a55312d51"
      },
      "execution_count": 59,
      "outputs": [
        {
          "output_type": "stream",
          "name": "stdout",
          "text": [
            "[[1 2 3]\n",
            " [4 5 6]]\n",
            "[[1 4]\n",
            " [2 5]\n",
            " [3 6]]\n",
            "[[1 4]\n",
            " [2 5]\n",
            " [3 6]]\n"
          ]
        }
      ]
    },
    {
      "cell_type": "code",
      "source": [
        "#배열의 크기 변형\n",
        "a=np.arange(12)\n",
        "print(a)\n",
        "b=a.reshape(3, 4)\n",
        "print(b)"
      ],
      "metadata": {
        "colab": {
          "base_uri": "https://localhost:8080/"
        },
        "id": "qV_rVDwLRhBn",
        "outputId": "ae5c121c-438c-44d0-d123-18a3ca66b757"
      },
      "execution_count": 62,
      "outputs": [
        {
          "output_type": "stream",
          "name": "stdout",
          "text": [
            "[ 0  1  2  3  4  5  6  7  8  9 10 11]\n",
            "[[ 0  1  2  3]\n",
            " [ 4  5  6  7]\n",
            " [ 8  9 10 11]]\n"
          ]
        }
      ]
    },
    {
      "cell_type": "code",
      "source": [
        "#배열의 크기 변형\n",
        "a=np.arange(12)\n",
        "print(a)\n",
        "\n",
        "b=a.reshape(2, -1, 3)\n",
        "print(b)"
      ],
      "metadata": {
        "colab": {
          "base_uri": "https://localhost:8080/"
        },
        "id": "045OxHHORnJD",
        "outputId": "d549ea2d-0973-4e1e-d784-1bbcec427be8"
      },
      "execution_count": 63,
      "outputs": [
        {
          "output_type": "stream",
          "name": "stdout",
          "text": [
            "[ 0  1  2  3  4  5  6  7  8  9 10 11]\n",
            "[[[ 0  1  2]\n",
            "  [ 3  4  5]]\n",
            "\n",
            " [[ 6  7  8]\n",
            "  [ 9 10 11]]]\n"
          ]
        }
      ]
    },
    {
      "cell_type": "code",
      "source": [
        "%%time\n",
        "a=[]\n",
        "for i in range(0, 10001):\n",
        "  a.append(i)\n",
        "b=[]\n",
        "for i in range(10000, 20001):\n",
        "  b.append(i)\n",
        "\n",
        "result=[]\n",
        "for i in range(len(b)):\n",
        "  result.append(a[i]+b[i])\n",
        "\n",
        "print(len(result))"
      ],
      "metadata": {
        "colab": {
          "base_uri": "https://localhost:8080/"
        },
        "id": "2DPHo7Q2R8Lf",
        "outputId": "f2e8ac9b-3df8-4da0-baab-29e66ae8ee9a"
      },
      "execution_count": 67,
      "outputs": [
        {
          "output_type": "stream",
          "name": "stdout",
          "text": [
            "10001\n",
            "CPU times: user 9.87 ms, sys: 0 ns, total: 9.87 ms\n",
            "Wall time: 13.3 ms\n"
          ]
        }
      ]
    },
    {
      "cell_type": "code",
      "source": [
        "%%time\n",
        "a=np.arange(0, 10001)\n",
        "b=np.arange(10000, 20001)\n",
        "c=a+b\n",
        "print(c)"
      ],
      "metadata": {
        "colab": {
          "base_uri": "https://localhost:8080/"
        },
        "id": "7h5ILXWGSCwg",
        "outputId": "e219e213-4fb2-4433-eba5-599bba45cfb7"
      },
      "execution_count": 68,
      "outputs": [
        {
          "output_type": "stream",
          "name": "stdout",
          "text": [
            "[10000 10002 10004 ... 29996 29998 30000]\n",
            "CPU times: user 2.01 ms, sys: 0 ns, total: 2.01 ms\n",
            "Wall time: 1.94 ms\n"
          ]
        }
      ]
    },
    {
      "cell_type": "code",
      "source": [
        "#비교 연산\n",
        "a=np.array([1, 2, 3, 4])\n",
        "b=np.array([4, 2, 2, 4])\n",
        "print(a==b)\n",
        "\n",
        "c=[1, 2, 3, 4]\n",
        "d=[4, 2, 2, 4]\n",
        "print(c==d)"
      ],
      "metadata": {
        "colab": {
          "base_uri": "https://localhost:8080/"
        },
        "id": "K_yq8IKvUzD5",
        "outputId": "62503743-4881-40cf-848b-381bfefb1172"
      },
      "execution_count": 69,
      "outputs": [
        {
          "output_type": "stream",
          "name": "stdout",
          "text": [
            "[False  True False  True]\n",
            "False\n"
          ]
        }
      ]
    },
    {
      "cell_type": "code",
      "source": [
        "#상수와 배열의 연산\n",
        "a=np.arange(10)\n",
        "print(a)\n",
        "print(a*100)"
      ],
      "metadata": {
        "colab": {
          "base_uri": "https://localhost:8080/"
        },
        "id": "4TTw-iYYVG6Z",
        "outputId": "e053d73f-9fa2-4d62-a7ff-3ecf513a8025"
      },
      "execution_count": 71,
      "outputs": [
        {
          "output_type": "stream",
          "name": "stdout",
          "text": [
            "[0 1 2 3 4 5 6 7 8 9]\n",
            "[  0 100 200 300 400 500 600 700 800 900]\n"
          ]
        }
      ]
    },
    {
      "cell_type": "code",
      "source": [
        "#브로드캐스팅\n",
        "a=np.array([[0, 1, 2, 3],\n",
        "              [4, 5, 6, 7],\n",
        "              [8, 9, 10, 11]])\n",
        "print(a*100)"
      ],
      "metadata": {
        "colab": {
          "base_uri": "https://localhost:8080/"
        },
        "id": "5fDWkc1LVYsB",
        "outputId": "aae74a75-078c-49cf-b7a1-4139dd801a16"
      },
      "execution_count": 73,
      "outputs": [
        {
          "output_type": "stream",
          "name": "stdout",
          "text": [
            "[[   0  100  200  300]\n",
            " [ 400  500  600  700]\n",
            " [ 800  900 1000 1100]]\n"
          ]
        }
      ]
    },
    {
      "cell_type": "code",
      "source": [
        "# 브로드캐스팅\n",
        "a=np.array([[1, 2, 3],\n",
        "              [4, 5, 6],\n",
        "              [7, 8, 9]])\n",
        "\n",
        "#1행->1차원 배열\n",
        "b=np.array([5, 10, 15])\n",
        "print(a+b)"
      ],
      "metadata": {
        "colab": {
          "base_uri": "https://localhost:8080/"
        },
        "id": "VwpRa4yMVxt9",
        "outputId": "850fec1d-50f2-4e54-be47-e277901e8114"
      },
      "execution_count": 74,
      "outputs": [
        {
          "output_type": "stream",
          "name": "stdout",
          "text": [
            "[[ 6 12 18]\n",
            " [ 9 15 21]\n",
            " [12 18 24]]\n"
          ]
        }
      ]
    },
    {
      "cell_type": "code",
      "source": [
        "# 브로드캐스팅\n",
        "a=np.array([[1, 2, 3],\n",
        "              [4, 5, 6],\n",
        "              [7, 8, 9]])\n",
        "#2행이상->2차원 배열\n",
        "b=np.array([[5],\n",
        "            [10],\n",
        "            [15]])\n",
        "print(a+b)"
      ],
      "metadata": {
        "colab": {
          "base_uri": "https://localhost:8080/"
        },
        "id": "nw0VkKceV7FZ",
        "outputId": "49b0262e-e39d-4c67-f317-b9f5eef2e527"
      },
      "execution_count": 76,
      "outputs": [
        {
          "output_type": "stream",
          "name": "stdout",
          "text": [
            "[[ 6  7  8]\n",
            " [14 15 16]\n",
            " [22 23 24]]\n"
          ]
        }
      ]
    },
    {
      "cell_type": "code",
      "source": [
        "a=np.array([1, 3, 2])\n",
        "print(a)"
      ],
      "metadata": {
        "colab": {
          "base_uri": "https://localhost:8080/"
        },
        "id": "ziZfgUe2WC3m",
        "outputId": "54b5675e-7d4b-43ce-cde7-49fe60aae660"
      },
      "execution_count": 77,
      "outputs": [
        {
          "output_type": "stream",
          "name": "stdout",
          "text": [
            "[1 3 2]\n"
          ]
        }
      ]
    },
    {
      "cell_type": "code",
      "source": [
        "#Transport:차원변경x, Reshape:차원변경o\n",
        "\n",
        "#max(최댓값)를 이상치 값으로 분별할 수 있음\n",
        "#이상치 값을 잘 처리해야 머신러닝, 딥러닝을 학습에 용이\n",
        "print(a.max())"
      ],
      "metadata": {
        "colab": {
          "base_uri": "https://localhost:8080/"
        },
        "id": "goixvvnSWIXD",
        "outputId": "3e6407ad-feb7-4841-9fe0-89a25180aea8"
      },
      "execution_count": 78,
      "outputs": [
        {
          "output_type": "stream",
          "name": "stdout",
          "text": [
            "3\n"
          ]
        }
      ]
    },
    {
      "cell_type": "code",
      "source": [
        "#argmax(인자의 최댓값 위치)\n",
        "print(a.argmax())"
      ],
      "metadata": {
        "colab": {
          "base_uri": "https://localhost:8080/"
        },
        "id": "K5uJJ1g-WKit",
        "outputId": "c6a01e97-94da-4268-b93e-a25a38935da0"
      },
      "execution_count": 80,
      "outputs": [
        {
          "output_type": "stream",
          "name": "stdout",
          "text": [
            "1\n"
          ]
        }
      ]
    },
    {
      "cell_type": "code",
      "source": [
        "#min(최솟값)\n",
        "print(a.min())"
      ],
      "metadata": {
        "colab": {
          "base_uri": "https://localhost:8080/"
        },
        "id": "7XrJ8KHeWNO8",
        "outputId": "201c4b7a-5acb-438e-e66a-18916d1de91e"
      },
      "execution_count": 82,
      "outputs": [
        {
          "output_type": "stream",
          "name": "stdout",
          "text": [
            "1\n"
          ]
        }
      ]
    },
    {
      "cell_type": "code",
      "source": [
        "#argmin(인자의 최솟값 위치)\n",
        "print(a.argmin())"
      ],
      "metadata": {
        "colab": {
          "base_uri": "https://localhost:8080/"
        },
        "id": "fk3ectJEW7tQ",
        "outputId": "0845e630-49a0-4e2e-ab54-9f2bc9ca3cae"
      },
      "execution_count": 83,
      "outputs": [
        {
          "output_type": "stream",
          "name": "stdout",
          "text": [
            "0\n"
          ]
        }
      ]
    },
    {
      "cell_type": "code",
      "source": [
        "#sum\n",
        "#배열의 합\n",
        "print(np.sum(a))\n",
        "print(a.sum())\n",
        "#print(dir(a)) #a객체가 어떤 함수를 쓸 수 있는지"
      ],
      "metadata": {
        "colab": {
          "base_uri": "https://localhost:8080/"
        },
        "id": "BW37sOjzXPE8",
        "outputId": "98b837e4-c800-4f1c-eb71-b914a2ad8102"
      },
      "execution_count": 86,
      "outputs": [
        {
          "output_type": "stream",
          "name": "stdout",
          "text": [
            "6\n",
            "6\n"
          ]
        }
      ]
    },
    {
      "cell_type": "code",
      "source": [
        "#mean\n",
        "a=np.array([1, 2, 3, 4, 1])\n",
        "print(a.mean())"
      ],
      "metadata": {
        "colab": {
          "base_uri": "https://localhost:8080/"
        },
        "id": "jxnNqKmuXRyv",
        "outputId": "a07787b8-31d7-4301-ed41-d7d38c063f29"
      },
      "execution_count": 87,
      "outputs": [
        {
          "output_type": "stream",
          "name": "stdout",
          "text": [
            "2.2\n"
          ]
        }
      ]
    },
    {
      "cell_type": "code",
      "source": [
        "#median:중간값(평균값이랑 다름)\n",
        "#4분위수를 통해서 빈도를 확인할 수 있음\n",
        "#무조건 오름차순이 된 걸 바탕으로 중간 위치에 있는 값 추출\n",
        "print(np.median(a))"
      ],
      "metadata": {
        "colab": {
          "base_uri": "https://localhost:8080/"
        },
        "id": "BBCEIsNmXsxa",
        "outputId": "43199a9b-416d-4380-acaf-8e59efd57c38"
      },
      "execution_count": 88,
      "outputs": [
        {
          "output_type": "stream",
          "name": "stdout",
          "text": [
            "2.0\n"
          ]
        }
      ]
    },
    {
      "cell_type": "code",
      "source": [
        "#var:값이 평균과 얼마나 떨어져 있는지 확인\n",
        "#분산:평균으로부터 데이터가 얼마나 떨어져 있는지\n",
        "a=np.array([5, 9, 7, 3, 10])\n",
        "print(np.var(a))\n",
        "\n",
        "#분산이 작으면 가운데에 오기종기 모임\n",
        "#분산이 크면 널리 퍼져있"
      ],
      "metadata": {
        "colab": {
          "base_uri": "https://localhost:8080/"
        },
        "id": "KuAmaPrRXxuz",
        "outputId": "b5aed490-cbee-4167-9825-826df03e3ffd"
      },
      "execution_count": 89,
      "outputs": [
        {
          "output_type": "stream",
          "name": "stdout",
          "text": [
            "6.5600000000000005\n"
          ]
        }
      ]
    },
    {
      "cell_type": "code",
      "source": [
        "#데이터가 커질수록 분산이 커지므로 이를 해결하기 위해 분산에 루트를 씌움 이것을 표준편차\n",
        "#std:표준편차\n",
        "print(np.std(a))"
      ],
      "metadata": {
        "colab": {
          "base_uri": "https://localhost:8080/"
        },
        "id": "qb0X2ZTXX-tv",
        "outputId": "eaf5cc9f-676c-487a-c418-cb6dc36ccbbc"
      },
      "execution_count": 90,
      "outputs": [
        {
          "output_type": "stream",
          "name": "stdout",
          "text": [
            "2.5612496949731396\n"
          ]
        }
      ]
    },
    {
      "cell_type": "code",
      "source": [
        "#all:모두 참이면 참\n",
        "a=np.array([0, 1, 2, 3, 4])\n",
        "print(np.all(a))"
      ],
      "metadata": {
        "colab": {
          "base_uri": "https://localhost:8080/"
        },
        "id": "E5Th940HYVUg",
        "outputId": "206e566d-193b-46fa-a1ea-828f5b3d2534"
      },
      "execution_count": 91,
      "outputs": [
        {
          "output_type": "stream",
          "name": "stdout",
          "text": [
            "False\n"
          ]
        }
      ]
    },
    {
      "cell_type": "code",
      "source": [
        "#any:모두 거짓이면 거짓\n",
        "print(np.any(a))"
      ],
      "metadata": {
        "colab": {
          "base_uri": "https://localhost:8080/"
        },
        "id": "cKaTtFbUYcop",
        "outputId": "9e03ed6b-afd7-4586-f025-75eb950c5ac4"
      },
      "execution_count": 92,
      "outputs": [
        {
          "output_type": "stream",
          "name": "stdout",
          "text": [
            "True\n"
          ]
        }
      ]
    },
    {
      "cell_type": "code",
      "source": [
        "#2차원 배열 연산\n",
        "a=np.array([[1, 1],\n",
        "            [2, 2]])\n",
        "\n",
        "#sum\n",
        "print(np.sum(a))"
      ],
      "metadata": {
        "colab": {
          "base_uri": "https://localhost:8080/"
        },
        "id": "iPk25kHUYhiV",
        "outputId": "5f9861e1-2310-4157-8bdc-099328cac794"
      },
      "execution_count": 93,
      "outputs": [
        {
          "output_type": "stream",
          "name": "stdout",
          "text": [
            "6\n"
          ]
        }
      ]
    },
    {
      "cell_type": "code",
      "source": [
        "#axis는 축\n",
        "#sum:행연산\n",
        "print(np.sum(a, axis=0))"
      ],
      "metadata": {
        "colab": {
          "base_uri": "https://localhost:8080/"
        },
        "id": "moYcFQAWYslv",
        "outputId": "57745e84-f84d-4248-dbcb-5e140bdbe41a"
      },
      "execution_count": 94,
      "outputs": [
        {
          "output_type": "stream",
          "name": "stdout",
          "text": [
            "[3 3]\n"
          ]
        }
      ]
    },
    {
      "cell_type": "code",
      "source": [
        "#sum:열연산\n",
        "print(np.sum(a, axis=1))"
      ],
      "metadata": {
        "colab": {
          "base_uri": "https://localhost:8080/"
        },
        "id": "cFsbx9BSYxbg",
        "outputId": "c23e60bd-c684-4cf5-a243-5f41fb9229c3"
      },
      "execution_count": 95,
      "outputs": [
        {
          "output_type": "stream",
          "name": "stdout",
          "text": [
            "[2 4]\n"
          ]
        }
      ]
    },
    {
      "cell_type": "code",
      "source": [
        "#NaN\n",
        "a=np.array([0, 1, -1, 0])/np.array([1, 0, 0, 0])\n",
        "print(a)"
      ],
      "metadata": {
        "colab": {
          "base_uri": "https://localhost:8080/"
        },
        "id": "ROInVUXQY5bT",
        "outputId": "05c1e6f3-fe1c-4fc1-b0ad-5a888f1b0334"
      },
      "execution_count": 96,
      "outputs": [
        {
          "output_type": "stream",
          "name": "stdout",
          "text": [
            "[  0.  inf -inf  nan]\n"
          ]
        },
        {
          "output_type": "stream",
          "name": "stderr",
          "text": [
            "<ipython-input-96-b048ca41f732>:2: RuntimeWarning: divide by zero encountered in divide\n",
            "  a=np.array([0, 1, -1, 0])/np.array([1, 0, 0, 0])\n",
            "<ipython-input-96-b048ca41f732>:2: RuntimeWarning: invalid value encountered in divide\n",
            "  a=np.array([0, 1, -1, 0])/np.array([1, 0, 0, 0])\n"
          ]
        }
      ]
    },
    {
      "cell_type": "code",
      "source": [
        "#inf:무한대\n",
        "print(np.inf)"
      ],
      "metadata": {
        "colab": {
          "base_uri": "https://localhost:8080/"
        },
        "id": "jyzVPKwuY8_p",
        "outputId": "da5ad2eb-3eb0-4063-d795-2511c149f383"
      },
      "execution_count": 97,
      "outputs": [
        {
          "output_type": "stream",
          "name": "stdout",
          "text": [
            "inf\n"
          ]
        }
      ]
    },
    {
      "cell_type": "code",
      "source": [
        "#NaN\n",
        "print(np.nan)"
      ],
      "metadata": {
        "colab": {
          "base_uri": "https://localhost:8080/"
        },
        "id": "92N4534-Y_RC",
        "outputId": "d7225d20-845c-4e27-ed13-35e2c2eddb7a"
      },
      "execution_count": 98,
      "outputs": [
        {
          "output_type": "stream",
          "name": "stdout",
          "text": [
            "nan\n"
          ]
        }
      ]
    }
  ]
}